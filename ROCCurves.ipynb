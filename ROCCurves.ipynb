{
  "nbformat": 4,
  "nbformat_minor": 0,
  "metadata": {
    "colab": {
      "name": "ROCCurves.ipynb",
      "provenance": [],
      "collapsed_sections": []
    },
    "kernelspec": {
      "name": "python3",
      "display_name": "Python 3"
    }
  },
  "cells": [
    {
      "cell_type": "code",
      "metadata": {
        "id": "D_ALXc400EGA",
        "colab_type": "code",
        "colab": {
          "base_uri": "https://localhost:8080/",
          "height": 122
        },
        "outputId": "c6591bdc-3dce-4e28-85ee-baa924a1e00d"
      },
      "source": [
        "#Mount my drive- run the code, go to the link, accept.\n",
        "from google.colab import drive\n",
        "drive.mount('/content/gdrive')"
      ],
      "execution_count": 1,
      "outputs": [
        {
          "output_type": "stream",
          "text": [
            "Go to this URL in a browser: https://accounts.google.com/o/oauth2/auth?client_id=947318989803-6bn6qk8qdgf4n4g3pfee6491hc0brc4i.apps.googleusercontent.com&redirect_uri=urn%3Aietf%3Awg%3Aoauth%3A2.0%3Aoob&scope=email%20https%3A%2F%2Fwww.googleapis.com%2Fauth%2Fdocs.test%20https%3A%2F%2Fwww.googleapis.com%2Fauth%2Fdrive%20https%3A%2F%2Fwww.googleapis.com%2Fauth%2Fdrive.photos.readonly%20https%3A%2F%2Fwww.googleapis.com%2Fauth%2Fpeopleapi.readonly&response_type=code\n",
            "\n",
            "Enter your authorization code:\n",
            "··········\n",
            "Mounted at /content/gdrive\n"
          ],
          "name": "stdout"
        }
      ]
    },
    {
      "cell_type": "code",
      "metadata": {
        "id": "jojEUfai0LWU",
        "colab_type": "code",
        "colab": {
          "base_uri": "https://localhost:8080/",
          "height": 34
        },
        "outputId": "2630fa30-4f5f-4de8-94fe-8d38d1db826d"
      },
      "source": [
        "import os\n",
        "os.chdir(\"/content/gdrive/My Drive/OwnJupyterNotebooks/\")\n",
        "os.getcwd()"
      ],
      "execution_count": 2,
      "outputs": [
        {
          "output_type": "execute_result",
          "data": {
            "text/plain": [
              "'/content/gdrive/My Drive/OwnJupyterNotebooks'"
            ]
          },
          "metadata": {
            "tags": []
          },
          "execution_count": 2
        }
      ]
    },
    {
      "cell_type": "code",
      "metadata": {
        "id": "WFgzuqx80LZq",
        "colab_type": "code",
        "colab": {}
      },
      "source": [
        "# Import Libraries\n",
        "import pandas as pd\n",
        "import numpy as np\n",
        "import matplotlib.pyplot as plt\n",
        "import seaborn as sns\n",
        "from pandas.plotting import scatter_matrix\n",
        "%matplotlib inline"
      ],
      "execution_count": 0,
      "outputs": []
    },
    {
      "cell_type": "markdown",
      "metadata": {
        "id": "G7swnJXs0a_c",
        "colab_type": "text"
      },
      "source": [
        "## ROC Receiving Operating Characteristic"
      ]
    },
    {
      "cell_type": "markdown",
      "metadata": {
        "id": "aJVeIPQD03h4",
        "colab_type": "text"
      },
      "source": [
        "ROC curves are for use with binary classifiers, like logistic regression. The true positive rate is plotted on the y-axis and the false positive rate is plotting on the x-axis. Setting probability thresholds that divide both positive and negative probability curves into predicted positive and negative allows the calculation of true and false positive rates. Plotting all combos of true and false positive rates generates the ROC curve.  An ROC curve visualizes all false positive/true positive combinations so that all thresholds can be visualized at once. The closer the ROC curve stays to the y-axis, the lower the false positive rate, and the better the classifier is.  This means that the classifier is better at separating the positive and negative data.  The closer the ROC curve lies to y=x, the closer the classifier's predictions are to chance.\n",
        "\n",
        "AUC stands for \"Area Under Curve,\" the ROC curve.  The more above 50%, or the closer to 1 that the AUC is, the more effective is the classifier.\n",
        "\n",
        "ROC curves work even with unbalanced data.  They can be used with more that 2 classes by cycling through each class plotted against the others and generating a curve for each."
      ]
    },
    {
      "cell_type": "markdown",
      "metadata": {
        "id": "ElDfpBYD7kRU",
        "colab_type": "text"
      },
      "source": [
        "#### Generating an ROC curve with old Stack Exchange Data"
      ]
    },
    {
      "cell_type": "code",
      "metadata": {
        "id": "UhQaPpCU0aJR",
        "colab_type": "code",
        "colab": {
          "base_uri": "https://localhost:8080/",
          "height": 204
        },
        "outputId": "8120e4af-2e4b-4260-f571-f14e0ed5200b"
      },
      "source": [
        "data = pd.read_csv('/content/gdrive/My Drive/Colab Notebooks/2019_flagged_unflagged_data_7000_each.csv')\n",
        "data.head()"
      ],
      "execution_count": 4,
      "outputs": [
        {
          "output_type": "execute_result",
          "data": {
            "text/html": [
              "<div>\n",
              "<style scoped>\n",
              "    .dataframe tbody tr th:only-of-type {\n",
              "        vertical-align: middle;\n",
              "    }\n",
              "\n",
              "    .dataframe tbody tr th {\n",
              "        vertical-align: top;\n",
              "    }\n",
              "\n",
              "    .dataframe thead th {\n",
              "        text-align: right;\n",
              "    }\n",
              "</style>\n",
              "<table border=\"1\" class=\"dataframe\">\n",
              "  <thead>\n",
              "    <tr style=\"text-align: right;\">\n",
              "      <th></th>\n",
              "      <th>body</th>\n",
              "      <th>flag_id</th>\n",
              "    </tr>\n",
              "  </thead>\n",
              "  <tbody>\n",
              "    <tr>\n",
              "      <th>0</th>\n",
              "      <td>&lt;p&gt;I want to read JT 3D file in c++. I am able...</td>\n",
              "      <td>1</td>\n",
              "    </tr>\n",
              "    <tr>\n",
              "      <th>1</th>\n",
              "      <td>&lt;p&gt;I had to solve a Capacitated Orienteering P...</td>\n",
              "      <td>1</td>\n",
              "    </tr>\n",
              "    <tr>\n",
              "      <th>2</th>\n",
              "      <td>&lt;p&gt;The SSLServerSocket below blocks in in.read...</td>\n",
              "      <td>1</td>\n",
              "    </tr>\n",
              "    <tr>\n",
              "      <th>3</th>\n",
              "      <td>&lt;p&gt;Graph seems to be returning invalid retry-a...</td>\n",
              "      <td>1</td>\n",
              "    </tr>\n",
              "    <tr>\n",
              "      <th>4</th>\n",
              "      <td>&lt;p&gt;componentDidMount(){\\n    fetch('&lt;a href=\"h...</td>\n",
              "      <td>1</td>\n",
              "    </tr>\n",
              "  </tbody>\n",
              "</table>\n",
              "</div>"
            ],
            "text/plain": [
              "                                                body  flag_id\n",
              "0  <p>I want to read JT 3D file in c++. I am able...        1\n",
              "1  <p>I had to solve a Capacitated Orienteering P...        1\n",
              "2  <p>The SSLServerSocket below blocks in in.read...        1\n",
              "3  <p>Graph seems to be returning invalid retry-a...        1\n",
              "4  <p>componentDidMount(){\\n    fetch('<a href=\"h...        1"
            ]
          },
          "metadata": {
            "tags": []
          },
          "execution_count": 4
        }
      ]
    },
    {
      "cell_type": "code",
      "metadata": {
        "id": "eJkT7Yaa7p3G",
        "colab_type": "code",
        "colab": {}
      },
      "source": [
        "from bs4 import BeautifulSoup\n",
        "data['body'] = data.body.apply(lambda x: BeautifulSoup(str(x), \"lxml\").get_text())"
      ],
      "execution_count": 0,
      "outputs": []
    },
    {
      "cell_type": "code",
      "metadata": {
        "id": "y7K8XKdR72dk",
        "colab_type": "code",
        "colab": {
          "base_uri": "https://localhost:8080/",
          "height": 111
        },
        "outputId": "a467fac3-2785-4015-ebb7-09dad3d81fc8"
      },
      "source": [
        "data.head(2)"
      ],
      "execution_count": 6,
      "outputs": [
        {
          "output_type": "execute_result",
          "data": {
            "text/html": [
              "<div>\n",
              "<style scoped>\n",
              "    .dataframe tbody tr th:only-of-type {\n",
              "        vertical-align: middle;\n",
              "    }\n",
              "\n",
              "    .dataframe tbody tr th {\n",
              "        vertical-align: top;\n",
              "    }\n",
              "\n",
              "    .dataframe thead th {\n",
              "        text-align: right;\n",
              "    }\n",
              "</style>\n",
              "<table border=\"1\" class=\"dataframe\">\n",
              "  <thead>\n",
              "    <tr style=\"text-align: right;\">\n",
              "      <th></th>\n",
              "      <th>body</th>\n",
              "      <th>flag_id</th>\n",
              "    </tr>\n",
              "  </thead>\n",
              "  <tbody>\n",
              "    <tr>\n",
              "      <th>0</th>\n",
              "      <td>I want to read JT 3D file in c++. I am able to...</td>\n",
              "      <td>1</td>\n",
              "    </tr>\n",
              "    <tr>\n",
              "      <th>1</th>\n",
              "      <td>I had to solve a Capacitated Orienteering Prob...</td>\n",
              "      <td>1</td>\n",
              "    </tr>\n",
              "  </tbody>\n",
              "</table>\n",
              "</div>"
            ],
            "text/plain": [
              "                                                body  flag_id\n",
              "0  I want to read JT 3D file in c++. I am able to...        1\n",
              "1  I had to solve a Capacitated Orienteering Prob...        1"
            ]
          },
          "metadata": {
            "tags": []
          },
          "execution_count": 6
        }
      ]
    },
    {
      "cell_type": "code",
      "metadata": {
        "id": "7c8GXn_h77qr",
        "colab_type": "code",
        "colab": {
          "base_uri": "https://localhost:8080/",
          "height": 34
        },
        "outputId": "9254cc03-32a7-4641-f014-1ffe3e49ee93"
      },
      "source": [
        "reduced_data = data.sample(frac=.25)\n",
        "reduced_data.shape"
      ],
      "execution_count": 7,
      "outputs": [
        {
          "output_type": "execute_result",
          "data": {
            "text/plain": [
              "(3500, 2)"
            ]
          },
          "metadata": {
            "tags": []
          },
          "execution_count": 7
        }
      ]
    },
    {
      "cell_type": "code",
      "metadata": {
        "id": "IXjcu0-x8Cc7",
        "colab_type": "code",
        "colab": {
          "base_uri": "https://localhost:8080/",
          "height": 111
        },
        "outputId": "b99d85bb-d8c8-45f6-fcec-aad700c28c83"
      },
      "source": [
        "reduced_data = reduced_data.reset_index(drop=True)\n",
        "reduced_data.head(2)"
      ],
      "execution_count": 8,
      "outputs": [
        {
          "output_type": "execute_result",
          "data": {
            "text/html": [
              "<div>\n",
              "<style scoped>\n",
              "    .dataframe tbody tr th:only-of-type {\n",
              "        vertical-align: middle;\n",
              "    }\n",
              "\n",
              "    .dataframe tbody tr th {\n",
              "        vertical-align: top;\n",
              "    }\n",
              "\n",
              "    .dataframe thead th {\n",
              "        text-align: right;\n",
              "    }\n",
              "</style>\n",
              "<table border=\"1\" class=\"dataframe\">\n",
              "  <thead>\n",
              "    <tr style=\"text-align: right;\">\n",
              "      <th></th>\n",
              "      <th>body</th>\n",
              "      <th>flag_id</th>\n",
              "    </tr>\n",
              "  </thead>\n",
              "  <tbody>\n",
              "    <tr>\n",
              "      <th>0</th>\n",
              "      <td>Sample data:\\nGroup &lt;- c(\"a\", \"a\", \"a\", \"b\", \"...</td>\n",
              "      <td>0</td>\n",
              "    </tr>\n",
              "    <tr>\n",
              "      <th>1</th>\n",
              "      <td>I created a symfony 3.4 application using netb...</td>\n",
              "      <td>0</td>\n",
              "    </tr>\n",
              "  </tbody>\n",
              "</table>\n",
              "</div>"
            ],
            "text/plain": [
              "                                                body  flag_id\n",
              "0  Sample data:\\nGroup <- c(\"a\", \"a\", \"a\", \"b\", \"...        0\n",
              "1  I created a symfony 3.4 application using netb...        0"
            ]
          },
          "metadata": {
            "tags": []
          },
          "execution_count": 8
        }
      ]
    },
    {
      "cell_type": "markdown",
      "metadata": {
        "id": "tZLcR2hj8nP2",
        "colab_type": "text"
      },
      "source": [
        "#### Tokenizing, Lemmatizing, Preparing Queries for Binary Logistic Prediction"
      ]
    },
    {
      "cell_type": "code",
      "metadata": {
        "id": "Z_2DmKQx8Hf6",
        "colab_type": "code",
        "colab": {
          "base_uri": "https://localhost:8080/",
          "height": 51
        },
        "outputId": "b5ce6c8c-e83b-469d-8331-4303f6395d8c"
      },
      "source": [
        "import nltk\n",
        "nltk.download('punkt')\n",
        "from nltk.tokenize import word_tokenize"
      ],
      "execution_count": 9,
      "outputs": [
        {
          "output_type": "stream",
          "text": [
            "[nltk_data] Downloading package punkt to /root/nltk_data...\n",
            "[nltk_data]   Unzipping tokenizers/punkt.zip.\n"
          ],
          "name": "stdout"
        }
      ]
    },
    {
      "cell_type": "code",
      "metadata": {
        "id": "g9BdIbiD8y7p",
        "colab_type": "code",
        "colab": {}
      },
      "source": [
        "for query in reduced_data['body']:\n",
        "  tokenized_word=word_tokenize(query)"
      ],
      "execution_count": 0,
      "outputs": []
    },
    {
      "cell_type": "code",
      "metadata": {
        "id": "d54fgbIR82PA",
        "colab_type": "code",
        "colab": {
          "base_uri": "https://localhost:8080/",
          "height": 54
        },
        "outputId": "8aaa8ddb-abd8-41fd-ad6d-3500f47d6150"
      },
      "source": [
        "list_of_tokenized = []\n",
        "for query in reduced_data['body']:\n",
        "  tokenized_word=word_tokenize(query)\n",
        "  list_of_tokenized.append(tokenized_word)\n",
        "print(list_of_tokenized[0:4])"
      ],
      "execution_count": 11,
      "outputs": [
        {
          "output_type": "stream",
          "text": [
            "[['Sample', 'data', ':', 'Group', '<', '-', 'c', '(', '``', 'a', \"''\", ',', '``', 'a', \"''\", ',', '``', 'a', \"''\", ',', '``', 'b', \"''\", ',', '``', 'b', \"''\", ',', '``', 'b', \"''\", ',', '``', 'c', \"''\", ',', '``', 'c', \"''\", ',', '``', 'c', \"''\", ')', 'value_1', '<', '-', 'c', '(', '1.10', ',', '2.5', ',', '1.7', ',', '0.99', ',', '1.50', ',', '1.65', ',', '2.5', ',', '2.5', ',', '1.5', ')', 'value_2', '<', '-', 'c', '(', '0.03', ',', '1.3', ',', '3.5', ',', '0.02', ',', '4.3', ',', '1.2', ',', '1.4', ',', '1.4', ',', '3.7', ')', 'new_variable_1', '<', '-', 'c', '(', '1,0,1', ',', '1,1,0', ',', '0,0,1', ')', 'df', '<', '-', 'data.frame', '(', 'Group', ',', 'value_1', ',', 'value_2', ',', 'new_variable_1', ')', 'The', 'output', 'is', 'new_variable_1', '.', 'I', 'want', 'to', 'create', 'a', 'new_variable_1', 'based', 'on', 'following', 'criteria', ';', 'I', 'am', 'seeking', '2', 'solutions', '.', 'Basic', 'idea', ':', 'lookup', 'the', 'max', 'value', 'in', 'value_2', 'by', 'group', 'and', 'create', 'dummy', 'variable', 'based', 'on', 'values', 'in', 'value_1', '.', 'solution', '1', 'Logic', ':', 'Find', 'max', '(', 'value_2', ')', 'by', 'group', '.', 'E.g.', ',', 'the', 'max', 'value', 'in', 'value_2', 'for', 'group', 'a', 'is', '3.5', 'Find', 'the', 'corresponding', 'value_1', 'by', 'group', '.', 'E.g.', ',', 'value_1', 'is', '1.7', 'in', 'group', 'a', 'create', 'new_variable_1', 'by', 'group', 'that', 'is', '1', 'if', 'value_1', 'is', 'less', 'than', 'the', 'corresponding', 'value', 'in', 'the', 'above', 'step', '.', 'E.g.', ',', 'for', 'group', 'a', ',', 'value_1', '<', '=', '1.7', 'should', 'show', '1', '&', 'value_1', '>', '1.7', 'should', 'show', '0.', 'solution', '2', 'Logic', ':', 'Same', 'as', 'above', ',', 'but', 'increase', 'the', 'threshold', 'value', 'from', 'step', '2', 'by', '10', '%', '.', 'the', 'max', 'value', 'in', 'value_2', 'for', 'group', 'a', 'is', '3.5', 'it', 'then', 'corresponds', 'to', 'value', '1.7', 'value_1', 'in', 'group', 'a', 'Increase', 'the', 'value', 'by', '10', '%', '.', 'For', 'group', 'a', '10', '%', 'in', 'increase', 'would', 'be', '1.87', '.', 'Create', 'new_variable_1', ':', 'for', 'group', 'a', ',', 'value_1', '<', '=', '1.87', 'should', 'show', '1', '&', 'value_1', '>', '1.87', 'should', 'show', '0', '.', 'R', ',', 'dplyr', ',', 'data.table', 'and', 'most', 'efficient', 'R', 'codes', 'are', 'welcome', '.', 'It', \"'s\", 'a', 'large', 'dataset', 'so', 'groups', 'may', 'have', 'different', 'length', 'and', 'Inf', 'or', 'NA', 'may', 'exist', 'in', 'value_2', '.'], ['I', 'created', 'a', 'symfony', '3.4', 'application', 'using', 'netbeans', '8.2', '(', 'php', ')', '.', 'But', 'when', 'I', 'right', 'click', 'on', 'the', 'project', 'there', 'is', 'no', 'option', 'called', 'symfony', 'where', 'I', 'can', 'execute', 'commands', 'easily', '.', 'So', 'how', 'can', 'I', 'view', 'that', 'option', '?', 'If', 'anyone', 'knows', 'the', 'solution', ',', 'I', 'would', 'highly', 'appreciate', 'you', '.'], ['That', 'is', 'strange', ',', 'I', 'imagine', 'you', 'do', \"n't\", 'care', 'about', 'the', 'contents', 'of', 'the', 'cache', ',', 'have', 'you', 'tried', 'giving', 'the', 'folder', 'the', 'right', 'permissions', '?', 'Those', 'the', 'user', 'for', 'Admin', 'panel', 'have', 'the', 'rights', 'to', 'flush', '?'], ['Views.py', 'class', 'templateList', '(', 'PermissionRequiredMixin', ',', 'TemplateView', ')', ':', 'permission_required', '=', \"'accounts.template_all'\", 'def', 'get', '(', 'self', ',', 'request', ',', '*args', ',', '**kwargs', ')', ':', '#', 'view', 'logic', 'print', '(', 'self.request.user.has_perms', '(', \"'accounts.template_all\", \"'\", ')', ')', 'return', 'render', '(', 'request', ',', 'template_name', ',', 'context', ')', 'accounts/models.py', 'class', 'User', '(', 'AbstractBaseUser', ',', 'PermissionsMixin', ')', ':', '#', 'some', 'fields', 'here', 'class', 'Meta', ':', 'verbose_name', '=', '_', '(', \"'user\", \"'\", ')', 'verbose_name_plural', '=', '_', '(', \"'users\", \"'\", ')', 'permissions', '=', '(', '(', '``', 'template_all', \"''\", ',', '``', 'access', 'to', 'all', 'templates', \"''\", ')', ',', ')', 'ViewName.___mro____', '(', '<', 'class', \"'template.views.templateList\", \"'\", '>', ',', '<', 'class', \"'django.contrib.auth.mixins.PermissionRequiredMixin\", \"'\", '>', ',', '<', 'class', \"'django.contrib.auth.mixins.AccessMixin\", \"'\", '>', ',', '<', 'class', \"'django.views.generic.base.TemplateView\", \"'\", '>', ',', '<', 'class', \"'django.views.generic.base.TemplateResponseMixin\", \"'\", '>', ',', '<', 'class', \"'django.views.generic.base.ContextMixin\", \"'\", '>', ',', '<', 'class', \"'django.views.generic.base.View\", \"'\", '>', ',', '<', 'class', \"'object\", \"'\", '>', ')', 'self.request.user.has_perms', '(', \"'accounts.template_all\", \"'\", ')', 'in', 'views.py', 'returns', 'the', 'correct', 'boolean', 'value', ',', 'however', ',', 'self.has_permission', '(', ')', 'returns', 'True', 'every', 'time', '.', 'permission_required', 'has', 'no', 'effect', ',', 'and', 'the', 'user', 'is', 'still', 'able', 'to', 'see', 'the', 'page', 'even', 'when', 'the', 'print', 'returns', 'false', '.', 'self.get_permission_required', 'alos', 'returns', 'the', 'correct', 'value', '.', 'Help', 'appreciated', '.']]\n"
          ],
          "name": "stdout"
        }
      ]
    },
    {
      "cell_type": "code",
      "metadata": {
        "id": "3npyMvjJ86j4",
        "colab_type": "code",
        "colab": {
          "base_uri": "https://localhost:8080/",
          "height": 145
        },
        "outputId": "79814e39-7c33-4971-eb8e-7ceba6fcb081"
      },
      "source": [
        "reduced_data['TokenBody'] = list_of_tokenized\n",
        "reduced_data.head(2)"
      ],
      "execution_count": 19,
      "outputs": [
        {
          "output_type": "execute_result",
          "data": {
            "text/html": [
              "<div>\n",
              "<style scoped>\n",
              "    .dataframe tbody tr th:only-of-type {\n",
              "        vertical-align: middle;\n",
              "    }\n",
              "\n",
              "    .dataframe tbody tr th {\n",
              "        vertical-align: top;\n",
              "    }\n",
              "\n",
              "    .dataframe thead th {\n",
              "        text-align: right;\n",
              "    }\n",
              "</style>\n",
              "<table border=\"1\" class=\"dataframe\">\n",
              "  <thead>\n",
              "    <tr style=\"text-align: right;\">\n",
              "      <th></th>\n",
              "      <th>body</th>\n",
              "      <th>flag_id</th>\n",
              "      <th>TokenBody</th>\n",
              "      <th>NoStopWords</th>\n",
              "      <th>LemmWords</th>\n",
              "    </tr>\n",
              "  </thead>\n",
              "  <tbody>\n",
              "    <tr>\n",
              "      <th>0</th>\n",
              "      <td>Sample data:\\nGroup &lt;- c(\"a\", \"a\", \"a\", \"b\", \"...</td>\n",
              "      <td>0</td>\n",
              "      <td>[Sample, data, :, Group, &lt;, -, c, (, ``, a, ''...</td>\n",
              "      <td>[Sample, data, :, Group, &lt;, -, c, (, ``, '', ,...</td>\n",
              "      <td>[Sample, data, :, Group, &lt;, -, c, (, ``, '', ,...</td>\n",
              "    </tr>\n",
              "    <tr>\n",
              "      <th>1</th>\n",
              "      <td>I created a symfony 3.4 application using netb...</td>\n",
              "      <td>0</td>\n",
              "      <td>[I, created, a, symfony, 3.4, application, usi...</td>\n",
              "      <td>[I, created, symfony, 3.4, application, using,...</td>\n",
              "      <td>[I, created, symfony, 3.4, application, using,...</td>\n",
              "    </tr>\n",
              "  </tbody>\n",
              "</table>\n",
              "</div>"
            ],
            "text/plain": [
              "                                                body  ...                                          LemmWords\n",
              "0  Sample data:\\nGroup <- c(\"a\", \"a\", \"a\", \"b\", \"...  ...  [Sample, data, :, Group, <, -, c, (, ``, '', ,...\n",
              "1  I created a symfony 3.4 application using netb...  ...  [I, created, symfony, 3.4, application, using,...\n",
              "\n",
              "[2 rows x 5 columns]"
            ]
          },
          "metadata": {
            "tags": []
          },
          "execution_count": 19
        }
      ]
    },
    {
      "cell_type": "code",
      "metadata": {
        "id": "-mtII8BL9DfI",
        "colab_type": "code",
        "colab": {
          "base_uri": "https://localhost:8080/",
          "height": 51
        },
        "outputId": "52147f87-1d2e-4bad-b921-a435b8a8fc18"
      },
      "source": [
        "nltk.download('stopwords')\n",
        "from nltk.corpus import stopwords\n",
        "stop_words=set(stopwords.words(\"english\"))"
      ],
      "execution_count": 13,
      "outputs": [
        {
          "output_type": "stream",
          "text": [
            "[nltk_data] Downloading package stopwords to /root/nltk_data...\n",
            "[nltk_data]   Unzipping corpora/stopwords.zip.\n"
          ],
          "name": "stdout"
        }
      ]
    },
    {
      "cell_type": "code",
      "metadata": {
        "id": "YyyVc29y9MUC",
        "colab_type": "code",
        "colab": {}
      },
      "source": [
        "filtered_column=[]\n",
        "for word_list in reduced_data['TokenBody']:\n",
        "  filtered_query=[]\n",
        "  for word in word_list:\n",
        "    if word not in stop_words:\n",
        "      filtered_query.append(word)\n",
        "  filtered_column.append(filtered_query)"
      ],
      "execution_count": 0,
      "outputs": []
    },
    {
      "cell_type": "code",
      "metadata": {
        "id": "PYO9Doko9Pmc",
        "colab_type": "code",
        "colab": {}
      },
      "source": [
        "reduced_data[\"NoStopWords\"] = filtered_column"
      ],
      "execution_count": 0,
      "outputs": []
    },
    {
      "cell_type": "code",
      "metadata": {
        "id": "5P99nSkI9Ukx",
        "colab_type": "code",
        "colab": {
          "base_uri": "https://localhost:8080/",
          "height": 51
        },
        "outputId": "6875d583-311d-4855-9c2d-c2bc1899f458"
      },
      "source": [
        "nltk.download('wordnet')\n",
        "from nltk.stem.wordnet import WordNetLemmatizer\n",
        "lem = WordNetLemmatizer()"
      ],
      "execution_count": 16,
      "outputs": [
        {
          "output_type": "stream",
          "text": [
            "[nltk_data] Downloading package wordnet to /root/nltk_data...\n",
            "[nltk_data]   Unzipping corpora/wordnet.zip.\n"
          ],
          "name": "stdout"
        }
      ]
    },
    {
      "cell_type": "code",
      "metadata": {
        "id": "DL5C5laR9Xfx",
        "colab_type": "code",
        "colab": {}
      },
      "source": [
        "lemm_words = []\n",
        "for query in reduced_data['NoStopWords']:\n",
        "    lem_words = []\n",
        "    for word in query:\n",
        "      lem_word = lem.lemmatize(word)\n",
        "      lem_words.append(lem_word)\n",
        "    lemm_words.append(lem_words)"
      ],
      "execution_count": 0,
      "outputs": []
    },
    {
      "cell_type": "code",
      "metadata": {
        "id": "uGZbtIwt9aN5",
        "colab_type": "code",
        "colab": {
          "base_uri": "https://localhost:8080/",
          "height": 145
        },
        "outputId": "75b9464c-01b6-4d7e-f4fa-3c19ccd4d551"
      },
      "source": [
        "reduced_data['LemmWords'] = lemm_words\n",
        "reduced_data.head(2)"
      ],
      "execution_count": 20,
      "outputs": [
        {
          "output_type": "execute_result",
          "data": {
            "text/html": [
              "<div>\n",
              "<style scoped>\n",
              "    .dataframe tbody tr th:only-of-type {\n",
              "        vertical-align: middle;\n",
              "    }\n",
              "\n",
              "    .dataframe tbody tr th {\n",
              "        vertical-align: top;\n",
              "    }\n",
              "\n",
              "    .dataframe thead th {\n",
              "        text-align: right;\n",
              "    }\n",
              "</style>\n",
              "<table border=\"1\" class=\"dataframe\">\n",
              "  <thead>\n",
              "    <tr style=\"text-align: right;\">\n",
              "      <th></th>\n",
              "      <th>body</th>\n",
              "      <th>flag_id</th>\n",
              "      <th>TokenBody</th>\n",
              "      <th>NoStopWords</th>\n",
              "      <th>LemmWords</th>\n",
              "    </tr>\n",
              "  </thead>\n",
              "  <tbody>\n",
              "    <tr>\n",
              "      <th>0</th>\n",
              "      <td>Sample data:\\nGroup &lt;- c(\"a\", \"a\", \"a\", \"b\", \"...</td>\n",
              "      <td>0</td>\n",
              "      <td>[Sample, data, :, Group, &lt;, -, c, (, ``, a, ''...</td>\n",
              "      <td>[Sample, data, :, Group, &lt;, -, c, (, ``, '', ,...</td>\n",
              "      <td>[Sample, data, :, Group, &lt;, -, c, (, ``, '', ,...</td>\n",
              "    </tr>\n",
              "    <tr>\n",
              "      <th>1</th>\n",
              "      <td>I created a symfony 3.4 application using netb...</td>\n",
              "      <td>0</td>\n",
              "      <td>[I, created, a, symfony, 3.4, application, usi...</td>\n",
              "      <td>[I, created, symfony, 3.4, application, using,...</td>\n",
              "      <td>[I, created, symfony, 3.4, application, using,...</td>\n",
              "    </tr>\n",
              "  </tbody>\n",
              "</table>\n",
              "</div>"
            ],
            "text/plain": [
              "                                                body  ...                                          LemmWords\n",
              "0  Sample data:\\nGroup <- c(\"a\", \"a\", \"a\", \"b\", \"...  ...  [Sample, data, :, Group, <, -, c, (, ``, '', ,...\n",
              "1  I created a symfony 3.4 application using netb...  ...  [I, created, symfony, 3.4, application, using,...\n",
              "\n",
              "[2 rows x 5 columns]"
            ]
          },
          "metadata": {
            "tags": []
          },
          "execution_count": 20
        }
      ]
    },
    {
      "cell_type": "code",
      "metadata": {
        "id": "N7My3_1e9eGY",
        "colab_type": "code",
        "colab": {}
      },
      "source": [
        "lemm_list = []\n",
        "for query in lemm_words:\n",
        "  query = ' '.join(query)\n",
        "  lemm_list.append(query)"
      ],
      "execution_count": 0,
      "outputs": []
    },
    {
      "cell_type": "code",
      "metadata": {
        "id": "F6OoKwjv-LE9",
        "colab_type": "code",
        "colab": {
          "base_uri": "https://localhost:8080/",
          "height": 54
        },
        "outputId": "ef871563-2856-4fa3-c3e8-dea6d1da4829"
      },
      "source": [
        "lemm_list[1]"
      ],
      "execution_count": 22,
      "outputs": [
        {
          "output_type": "execute_result",
          "data": {
            "text/plain": [
              "'I created symfony 3.4 application using netbeans 8.2 ( php ) . But I right click project option called symfony I execute command easily . So I view option ? If anyone know solution , I would highly appreciate .'"
            ]
          },
          "metadata": {
            "tags": []
          },
          "execution_count": 22
        }
      ]
    },
    {
      "cell_type": "code",
      "metadata": {
        "id": "ir60R4wy-PRU",
        "colab_type": "code",
        "colab": {
          "base_uri": "https://localhost:8080/",
          "height": 97
        },
        "outputId": "eb205cc2-1907-415f-8f5f-a5655b87e788"
      },
      "source": [
        "# Adding stringform lemmatized words back into dataframe\n",
        "reduced_data['LemmString'] = lemm_list\n",
        "reduced_data.head(1)"
      ],
      "execution_count": 23,
      "outputs": [
        {
          "output_type": "execute_result",
          "data": {
            "text/html": [
              "<div>\n",
              "<style scoped>\n",
              "    .dataframe tbody tr th:only-of-type {\n",
              "        vertical-align: middle;\n",
              "    }\n",
              "\n",
              "    .dataframe tbody tr th {\n",
              "        vertical-align: top;\n",
              "    }\n",
              "\n",
              "    .dataframe thead th {\n",
              "        text-align: right;\n",
              "    }\n",
              "</style>\n",
              "<table border=\"1\" class=\"dataframe\">\n",
              "  <thead>\n",
              "    <tr style=\"text-align: right;\">\n",
              "      <th></th>\n",
              "      <th>body</th>\n",
              "      <th>flag_id</th>\n",
              "      <th>TokenBody</th>\n",
              "      <th>NoStopWords</th>\n",
              "      <th>LemmWords</th>\n",
              "      <th>LemmString</th>\n",
              "    </tr>\n",
              "  </thead>\n",
              "  <tbody>\n",
              "    <tr>\n",
              "      <th>0</th>\n",
              "      <td>Sample data:\\nGroup &lt;- c(\"a\", \"a\", \"a\", \"b\", \"...</td>\n",
              "      <td>0</td>\n",
              "      <td>[Sample, data, :, Group, &lt;, -, c, (, ``, a, ''...</td>\n",
              "      <td>[Sample, data, :, Group, &lt;, -, c, (, ``, '', ,...</td>\n",
              "      <td>[Sample, data, :, Group, &lt;, -, c, (, ``, '', ,...</td>\n",
              "      <td>Sample data : Group &lt; - c ( `` '' , `` '' , ``...</td>\n",
              "    </tr>\n",
              "  </tbody>\n",
              "</table>\n",
              "</div>"
            ],
            "text/plain": [
              "                                                body  ...                                         LemmString\n",
              "0  Sample data:\\nGroup <- c(\"a\", \"a\", \"a\", \"b\", \"...  ...  Sample data : Group < - c ( `` '' , `` '' , ``...\n",
              "\n",
              "[1 rows x 6 columns]"
            ]
          },
          "metadata": {
            "tags": []
          },
          "execution_count": 23
        }
      ]
    },
    {
      "cell_type": "code",
      "metadata": {
        "id": "5D6UyjRw-S20",
        "colab_type": "code",
        "colab": {}
      },
      "source": [
        "\n",
        "from sklearn.feature_extraction.text import CountVectorizer\n",
        "from nltk.tokenize import RegexpTokenizer\n",
        "#tokenizer to remove unwanted elements from out data like symbols and numbers\n",
        "token = RegexpTokenizer(r'[a-zA-Z0-9]+')\n",
        "count_vec = CountVectorizer()"
      ],
      "execution_count": 0,
      "outputs": []
    },
    {
      "cell_type": "code",
      "metadata": {
        "id": "ZsOpu5oX-XLM",
        "colab_type": "code",
        "colab": {
          "base_uri": "https://localhost:8080/",
          "height": 51
        },
        "outputId": "63c57201-a5f8-4f07-c2a6-b19d24a0cb29"
      },
      "source": [
        "vec_lemms = count_vec.fit(lemm_list)\n",
        "vec_lemms = count_vec.transform(lemm_list)\n",
        "vec_lemms"
      ],
      "execution_count": 25,
      "outputs": [
        {
          "output_type": "execute_result",
          "data": {
            "text/plain": [
              "<3500x33914 sparse matrix of type '<class 'numpy.int64'>'\n",
              "\twith 179254 stored elements in Compressed Sparse Row format>"
            ]
          },
          "metadata": {
            "tags": []
          },
          "execution_count": 25
        }
      ]
    },
    {
      "cell_type": "code",
      "metadata": {
        "id": "INQTgqz1-aG0",
        "colab_type": "code",
        "colab": {}
      },
      "source": [
        "from sklearn.feature_extraction.text import TfidfVectorizer\n",
        "tfidf = TfidfVectorizer(smooth_idf=False, sublinear_tf=False, norm=None, analyzer='word')"
      ],
      "execution_count": 0,
      "outputs": []
    },
    {
      "cell_type": "code",
      "metadata": {
        "id": "Q_1q_Kfn-dZb",
        "colab_type": "code",
        "colab": {
          "base_uri": "https://localhost:8080/",
          "height": 51
        },
        "outputId": "f2aba594-506f-4c8e-c7c6-085932d86429"
      },
      "source": [
        "tfidf_fit = tfidf.fit(lemm_list)\n",
        "tfidf_transform = tfidf.transform(lemm_list)\n",
        "tfidf_transform"
      ],
      "execution_count": 27,
      "outputs": [
        {
          "output_type": "execute_result",
          "data": {
            "text/plain": [
              "<3500x33914 sparse matrix of type '<class 'numpy.float64'>'\n",
              "\twith 179254 stored elements in Compressed Sparse Row format>"
            ]
          },
          "metadata": {
            "tags": []
          },
          "execution_count": 27
        }
      ]
    },
    {
      "cell_type": "code",
      "metadata": {
        "id": "v5g_hdB_-gAD",
        "colab_type": "code",
        "colab": {
          "base_uri": "https://localhost:8080/",
          "height": 231
        },
        "outputId": "01da0b35-a71a-486b-d99e-feff3d6e4c4e"
      },
      "source": [
        "vec_data = pd.DataFrame(tfidf_transform.toarray(), columns=tfidf.get_feature_names())\n",
        "vec_data.head(1)"
      ],
      "execution_count": 28,
      "outputs": [
        {
          "output_type": "execute_result",
          "data": {
            "text/html": [
              "<div>\n",
              "<style scoped>\n",
              "    .dataframe tbody tr th:only-of-type {\n",
              "        vertical-align: middle;\n",
              "    }\n",
              "\n",
              "    .dataframe tbody tr th {\n",
              "        vertical-align: top;\n",
              "    }\n",
              "\n",
              "    .dataframe thead th {\n",
              "        text-align: right;\n",
              "    }\n",
              "</style>\n",
              "<table border=\"1\" class=\"dataframe\">\n",
              "  <thead>\n",
              "    <tr style=\"text-align: right;\">\n",
              "      <th></th>\n",
              "      <th>00</th>\n",
              "      <th>000</th>\n",
              "      <th>0000</th>\n",
              "      <th>00000</th>\n",
              "      <th>000000</th>\n",
              "      <th>0000000000</th>\n",
              "      <th>0000000000000000000000000000000000000</th>\n",
              "      <th>00000000e</th>\n",
              "      <th>00000001</th>\n",
              "      <th>00002079</th>\n",
              "      <th>0000e</th>\n",
              "      <th>0000ff</th>\n",
              "      <th>0000im6xkn_53mkz4iw5kno5gr0</th>\n",
              "      <th>0001</th>\n",
              "      <th>000111010001110100011110000111110101</th>\n",
              "      <th>000123456789</th>\n",
              "      <th>000175745212</th>\n",
              "      <th>0001b</th>\n",
              "      <th>0002</th>\n",
              "      <th>0003</th>\n",
              "      <th>000307052454</th>\n",
              "      <th>0004</th>\n",
              "      <th>0004044</th>\n",
              "      <th>00046382</th>\n",
              "      <th>000472108193</th>\n",
              "      <th>000836333832</th>\n",
              "      <th>000885614966666667</th>\n",
              "      <th>000988217071</th>\n",
              "      <th>000x</th>\n",
              "      <th>001</th>\n",
              "      <th>0010</th>\n",
              "      <th>0011</th>\n",
              "      <th>0011111000</th>\n",
              "      <th>0012</th>\n",
              "      <th>00128154433</th>\n",
              "      <th>00158583815</th>\n",
              "      <th>0016854346</th>\n",
              "      <th>002</th>\n",
              "      <th>00220888574</th>\n",
              "      <th>00224457239</th>\n",
              "      <th>...</th>\n",
              "      <th>河北省</th>\n",
              "      <th>河南省</th>\n",
              "      <th>浙江省</th>\n",
              "      <th>海南省</th>\n",
              "      <th>湖北省</th>\n",
              "      <th>湖南省</th>\n",
              "      <th>甘肃省</th>\n",
              "      <th>福建省</th>\n",
              "      <th>移动了</th>\n",
              "      <th>西藏自治区</th>\n",
              "      <th>计算匹配信息</th>\n",
              "      <th>计算曝光度</th>\n",
              "      <th>读取图像</th>\n",
              "      <th>调整图像曝光</th>\n",
              "      <th>贵州省</th>\n",
              "      <th>辽宁省</th>\n",
              "      <th>适当缩放</th>\n",
              "      <th>重庆市</th>\n",
              "      <th>重新发布</th>\n",
              "      <th>陕西省</th>\n",
              "      <th>青海省</th>\n",
              "      <th>黑龙江省</th>\n",
              "      <th>강화학습</th>\n",
              "      <th>구분</th>\n",
              "      <th>군집화</th>\n",
              "      <th>날짜</th>\n",
              "      <th>분류</th>\n",
              "      <th>삭제</th>\n",
              "      <th>삭제되었습니다</th>\n",
              "      <th>서울역</th>\n",
              "      <th>승차</th>\n",
              "      <th>시청</th>\n",
              "      <th>알고리즘</th>\n",
              "      <th>역명</th>\n",
              "      <th>역번호</th>\n",
              "      <th>이상치</th>\n",
              "      <th>종각</th>\n",
              "      <th>탐지</th>\n",
              "      <th>하차</th>\n",
              "      <th>회귀</th>\n",
              "    </tr>\n",
              "  </thead>\n",
              "  <tbody>\n",
              "    <tr>\n",
              "      <th>0</th>\n",
              "      <td>0.0</td>\n",
              "      <td>0.0</td>\n",
              "      <td>0.0</td>\n",
              "      <td>0.0</td>\n",
              "      <td>0.0</td>\n",
              "      <td>0.0</td>\n",
              "      <td>0.0</td>\n",
              "      <td>0.0</td>\n",
              "      <td>0.0</td>\n",
              "      <td>0.0</td>\n",
              "      <td>0.0</td>\n",
              "      <td>0.0</td>\n",
              "      <td>0.0</td>\n",
              "      <td>0.0</td>\n",
              "      <td>0.0</td>\n",
              "      <td>0.0</td>\n",
              "      <td>0.0</td>\n",
              "      <td>0.0</td>\n",
              "      <td>0.0</td>\n",
              "      <td>0.0</td>\n",
              "      <td>0.0</td>\n",
              "      <td>0.0</td>\n",
              "      <td>0.0</td>\n",
              "      <td>0.0</td>\n",
              "      <td>0.0</td>\n",
              "      <td>0.0</td>\n",
              "      <td>0.0</td>\n",
              "      <td>0.0</td>\n",
              "      <td>0.0</td>\n",
              "      <td>0.0</td>\n",
              "      <td>0.0</td>\n",
              "      <td>0.0</td>\n",
              "      <td>0.0</td>\n",
              "      <td>0.0</td>\n",
              "      <td>0.0</td>\n",
              "      <td>0.0</td>\n",
              "      <td>0.0</td>\n",
              "      <td>0.0</td>\n",
              "      <td>0.0</td>\n",
              "      <td>0.0</td>\n",
              "      <td>...</td>\n",
              "      <td>0.0</td>\n",
              "      <td>0.0</td>\n",
              "      <td>0.0</td>\n",
              "      <td>0.0</td>\n",
              "      <td>0.0</td>\n",
              "      <td>0.0</td>\n",
              "      <td>0.0</td>\n",
              "      <td>0.0</td>\n",
              "      <td>0.0</td>\n",
              "      <td>0.0</td>\n",
              "      <td>0.0</td>\n",
              "      <td>0.0</td>\n",
              "      <td>0.0</td>\n",
              "      <td>0.0</td>\n",
              "      <td>0.0</td>\n",
              "      <td>0.0</td>\n",
              "      <td>0.0</td>\n",
              "      <td>0.0</td>\n",
              "      <td>0.0</td>\n",
              "      <td>0.0</td>\n",
              "      <td>0.0</td>\n",
              "      <td>0.0</td>\n",
              "      <td>0.0</td>\n",
              "      <td>0.0</td>\n",
              "      <td>0.0</td>\n",
              "      <td>0.0</td>\n",
              "      <td>0.0</td>\n",
              "      <td>0.0</td>\n",
              "      <td>0.0</td>\n",
              "      <td>0.0</td>\n",
              "      <td>0.0</td>\n",
              "      <td>0.0</td>\n",
              "      <td>0.0</td>\n",
              "      <td>0.0</td>\n",
              "      <td>0.0</td>\n",
              "      <td>0.0</td>\n",
              "      <td>0.0</td>\n",
              "      <td>0.0</td>\n",
              "      <td>0.0</td>\n",
              "      <td>0.0</td>\n",
              "    </tr>\n",
              "  </tbody>\n",
              "</table>\n",
              "<p>1 rows × 33914 columns</p>\n",
              "</div>"
            ],
            "text/plain": [
              "    00  000  0000  00000  000000  0000000000  ...  역번호  이상치   종각   탐지   하차   회귀\n",
              "0  0.0  0.0   0.0    0.0     0.0         0.0  ...  0.0  0.0  0.0  0.0  0.0  0.0\n",
              "\n",
              "[1 rows x 33914 columns]"
            ]
          },
          "metadata": {
            "tags": []
          },
          "execution_count": 28
        }
      ]
    },
    {
      "cell_type": "code",
      "metadata": {
        "id": "xr_qeT9p-iyb",
        "colab_type": "code",
        "colab": {
          "base_uri": "https://localhost:8080/",
          "height": 299
        },
        "outputId": "b11dfdf0-d0bd-4b46-c463-bd4b862c8abb"
      },
      "source": [
        "prepared_data = pd.concat([reduced_data, vec_data], axis=1)\n",
        "prepared_data.head(1)"
      ],
      "execution_count": 29,
      "outputs": [
        {
          "output_type": "execute_result",
          "data": {
            "text/html": [
              "<div>\n",
              "<style scoped>\n",
              "    .dataframe tbody tr th:only-of-type {\n",
              "        vertical-align: middle;\n",
              "    }\n",
              "\n",
              "    .dataframe tbody tr th {\n",
              "        vertical-align: top;\n",
              "    }\n",
              "\n",
              "    .dataframe thead th {\n",
              "        text-align: right;\n",
              "    }\n",
              "</style>\n",
              "<table border=\"1\" class=\"dataframe\">\n",
              "  <thead>\n",
              "    <tr style=\"text-align: right;\">\n",
              "      <th></th>\n",
              "      <th>body</th>\n",
              "      <th>flag_id</th>\n",
              "      <th>TokenBody</th>\n",
              "      <th>NoStopWords</th>\n",
              "      <th>LemmWords</th>\n",
              "      <th>LemmString</th>\n",
              "      <th>00</th>\n",
              "      <th>000</th>\n",
              "      <th>0000</th>\n",
              "      <th>00000</th>\n",
              "      <th>000000</th>\n",
              "      <th>0000000000</th>\n",
              "      <th>0000000000000000000000000000000000000</th>\n",
              "      <th>00000000e</th>\n",
              "      <th>00000001</th>\n",
              "      <th>00002079</th>\n",
              "      <th>0000e</th>\n",
              "      <th>0000ff</th>\n",
              "      <th>0000im6xkn_53mkz4iw5kno5gr0</th>\n",
              "      <th>0001</th>\n",
              "      <th>000111010001110100011110000111110101</th>\n",
              "      <th>000123456789</th>\n",
              "      <th>000175745212</th>\n",
              "      <th>0001b</th>\n",
              "      <th>0002</th>\n",
              "      <th>0003</th>\n",
              "      <th>000307052454</th>\n",
              "      <th>0004</th>\n",
              "      <th>0004044</th>\n",
              "      <th>00046382</th>\n",
              "      <th>000472108193</th>\n",
              "      <th>000836333832</th>\n",
              "      <th>000885614966666667</th>\n",
              "      <th>000988217071</th>\n",
              "      <th>000x</th>\n",
              "      <th>001</th>\n",
              "      <th>0010</th>\n",
              "      <th>0011</th>\n",
              "      <th>0011111000</th>\n",
              "      <th>0012</th>\n",
              "      <th>...</th>\n",
              "      <th>河北省</th>\n",
              "      <th>河南省</th>\n",
              "      <th>浙江省</th>\n",
              "      <th>海南省</th>\n",
              "      <th>湖北省</th>\n",
              "      <th>湖南省</th>\n",
              "      <th>甘肃省</th>\n",
              "      <th>福建省</th>\n",
              "      <th>移动了</th>\n",
              "      <th>西藏自治区</th>\n",
              "      <th>计算匹配信息</th>\n",
              "      <th>计算曝光度</th>\n",
              "      <th>读取图像</th>\n",
              "      <th>调整图像曝光</th>\n",
              "      <th>贵州省</th>\n",
              "      <th>辽宁省</th>\n",
              "      <th>适当缩放</th>\n",
              "      <th>重庆市</th>\n",
              "      <th>重新发布</th>\n",
              "      <th>陕西省</th>\n",
              "      <th>青海省</th>\n",
              "      <th>黑龙江省</th>\n",
              "      <th>강화학습</th>\n",
              "      <th>구분</th>\n",
              "      <th>군집화</th>\n",
              "      <th>날짜</th>\n",
              "      <th>분류</th>\n",
              "      <th>삭제</th>\n",
              "      <th>삭제되었습니다</th>\n",
              "      <th>서울역</th>\n",
              "      <th>승차</th>\n",
              "      <th>시청</th>\n",
              "      <th>알고리즘</th>\n",
              "      <th>역명</th>\n",
              "      <th>역번호</th>\n",
              "      <th>이상치</th>\n",
              "      <th>종각</th>\n",
              "      <th>탐지</th>\n",
              "      <th>하차</th>\n",
              "      <th>회귀</th>\n",
              "    </tr>\n",
              "  </thead>\n",
              "  <tbody>\n",
              "    <tr>\n",
              "      <th>0</th>\n",
              "      <td>Sample data:\\nGroup &lt;- c(\"a\", \"a\", \"a\", \"b\", \"...</td>\n",
              "      <td>0</td>\n",
              "      <td>[Sample, data, :, Group, &lt;, -, c, (, ``, a, ''...</td>\n",
              "      <td>[Sample, data, :, Group, &lt;, -, c, (, ``, '', ,...</td>\n",
              "      <td>[Sample, data, :, Group, &lt;, -, c, (, ``, '', ,...</td>\n",
              "      <td>Sample data : Group &lt; - c ( `` '' , `` '' , ``...</td>\n",
              "      <td>0.0</td>\n",
              "      <td>0.0</td>\n",
              "      <td>0.0</td>\n",
              "      <td>0.0</td>\n",
              "      <td>0.0</td>\n",
              "      <td>0.0</td>\n",
              "      <td>0.0</td>\n",
              "      <td>0.0</td>\n",
              "      <td>0.0</td>\n",
              "      <td>0.0</td>\n",
              "      <td>0.0</td>\n",
              "      <td>0.0</td>\n",
              "      <td>0.0</td>\n",
              "      <td>0.0</td>\n",
              "      <td>0.0</td>\n",
              "      <td>0.0</td>\n",
              "      <td>0.0</td>\n",
              "      <td>0.0</td>\n",
              "      <td>0.0</td>\n",
              "      <td>0.0</td>\n",
              "      <td>0.0</td>\n",
              "      <td>0.0</td>\n",
              "      <td>0.0</td>\n",
              "      <td>0.0</td>\n",
              "      <td>0.0</td>\n",
              "      <td>0.0</td>\n",
              "      <td>0.0</td>\n",
              "      <td>0.0</td>\n",
              "      <td>0.0</td>\n",
              "      <td>0.0</td>\n",
              "      <td>0.0</td>\n",
              "      <td>0.0</td>\n",
              "      <td>0.0</td>\n",
              "      <td>0.0</td>\n",
              "      <td>...</td>\n",
              "      <td>0.0</td>\n",
              "      <td>0.0</td>\n",
              "      <td>0.0</td>\n",
              "      <td>0.0</td>\n",
              "      <td>0.0</td>\n",
              "      <td>0.0</td>\n",
              "      <td>0.0</td>\n",
              "      <td>0.0</td>\n",
              "      <td>0.0</td>\n",
              "      <td>0.0</td>\n",
              "      <td>0.0</td>\n",
              "      <td>0.0</td>\n",
              "      <td>0.0</td>\n",
              "      <td>0.0</td>\n",
              "      <td>0.0</td>\n",
              "      <td>0.0</td>\n",
              "      <td>0.0</td>\n",
              "      <td>0.0</td>\n",
              "      <td>0.0</td>\n",
              "      <td>0.0</td>\n",
              "      <td>0.0</td>\n",
              "      <td>0.0</td>\n",
              "      <td>0.0</td>\n",
              "      <td>0.0</td>\n",
              "      <td>0.0</td>\n",
              "      <td>0.0</td>\n",
              "      <td>0.0</td>\n",
              "      <td>0.0</td>\n",
              "      <td>0.0</td>\n",
              "      <td>0.0</td>\n",
              "      <td>0.0</td>\n",
              "      <td>0.0</td>\n",
              "      <td>0.0</td>\n",
              "      <td>0.0</td>\n",
              "      <td>0.0</td>\n",
              "      <td>0.0</td>\n",
              "      <td>0.0</td>\n",
              "      <td>0.0</td>\n",
              "      <td>0.0</td>\n",
              "      <td>0.0</td>\n",
              "    </tr>\n",
              "  </tbody>\n",
              "</table>\n",
              "<p>1 rows × 33920 columns</p>\n",
              "</div>"
            ],
            "text/plain": [
              "                                                body  flag_id  ...   하차   회귀\n",
              "0  Sample data:\\nGroup <- c(\"a\", \"a\", \"a\", \"b\", \"...        0  ...  0.0  0.0\n",
              "\n",
              "[1 rows x 33920 columns]"
            ]
          },
          "metadata": {
            "tags": []
          },
          "execution_count": 29
        }
      ]
    },
    {
      "cell_type": "code",
      "metadata": {
        "id": "VPs3U92k-m1b",
        "colab_type": "code",
        "colab": {
          "base_uri": "https://localhost:8080/",
          "height": 231
        },
        "outputId": "37433a88-4808-45c5-a7f2-799953e11865"
      },
      "source": [
        "prepared_data = prepared_data.drop(['body','TokenBody','NoStopWords','LemmWords','LemmString'], axis=1)\n",
        "prepared_data.head(1)"
      ],
      "execution_count": 30,
      "outputs": [
        {
          "output_type": "execute_result",
          "data": {
            "text/html": [
              "<div>\n",
              "<style scoped>\n",
              "    .dataframe tbody tr th:only-of-type {\n",
              "        vertical-align: middle;\n",
              "    }\n",
              "\n",
              "    .dataframe tbody tr th {\n",
              "        vertical-align: top;\n",
              "    }\n",
              "\n",
              "    .dataframe thead th {\n",
              "        text-align: right;\n",
              "    }\n",
              "</style>\n",
              "<table border=\"1\" class=\"dataframe\">\n",
              "  <thead>\n",
              "    <tr style=\"text-align: right;\">\n",
              "      <th></th>\n",
              "      <th>flag_id</th>\n",
              "      <th>00</th>\n",
              "      <th>000</th>\n",
              "      <th>0000</th>\n",
              "      <th>00000</th>\n",
              "      <th>000000</th>\n",
              "      <th>0000000000</th>\n",
              "      <th>0000000000000000000000000000000000000</th>\n",
              "      <th>00000000e</th>\n",
              "      <th>00000001</th>\n",
              "      <th>00002079</th>\n",
              "      <th>0000e</th>\n",
              "      <th>0000ff</th>\n",
              "      <th>0000im6xkn_53mkz4iw5kno5gr0</th>\n",
              "      <th>0001</th>\n",
              "      <th>000111010001110100011110000111110101</th>\n",
              "      <th>000123456789</th>\n",
              "      <th>000175745212</th>\n",
              "      <th>0001b</th>\n",
              "      <th>0002</th>\n",
              "      <th>0003</th>\n",
              "      <th>000307052454</th>\n",
              "      <th>0004</th>\n",
              "      <th>0004044</th>\n",
              "      <th>00046382</th>\n",
              "      <th>000472108193</th>\n",
              "      <th>000836333832</th>\n",
              "      <th>000885614966666667</th>\n",
              "      <th>000988217071</th>\n",
              "      <th>000x</th>\n",
              "      <th>001</th>\n",
              "      <th>0010</th>\n",
              "      <th>0011</th>\n",
              "      <th>0011111000</th>\n",
              "      <th>0012</th>\n",
              "      <th>00128154433</th>\n",
              "      <th>00158583815</th>\n",
              "      <th>0016854346</th>\n",
              "      <th>002</th>\n",
              "      <th>00220888574</th>\n",
              "      <th>...</th>\n",
              "      <th>河北省</th>\n",
              "      <th>河南省</th>\n",
              "      <th>浙江省</th>\n",
              "      <th>海南省</th>\n",
              "      <th>湖北省</th>\n",
              "      <th>湖南省</th>\n",
              "      <th>甘肃省</th>\n",
              "      <th>福建省</th>\n",
              "      <th>移动了</th>\n",
              "      <th>西藏自治区</th>\n",
              "      <th>计算匹配信息</th>\n",
              "      <th>计算曝光度</th>\n",
              "      <th>读取图像</th>\n",
              "      <th>调整图像曝光</th>\n",
              "      <th>贵州省</th>\n",
              "      <th>辽宁省</th>\n",
              "      <th>适当缩放</th>\n",
              "      <th>重庆市</th>\n",
              "      <th>重新发布</th>\n",
              "      <th>陕西省</th>\n",
              "      <th>青海省</th>\n",
              "      <th>黑龙江省</th>\n",
              "      <th>강화학습</th>\n",
              "      <th>구분</th>\n",
              "      <th>군집화</th>\n",
              "      <th>날짜</th>\n",
              "      <th>분류</th>\n",
              "      <th>삭제</th>\n",
              "      <th>삭제되었습니다</th>\n",
              "      <th>서울역</th>\n",
              "      <th>승차</th>\n",
              "      <th>시청</th>\n",
              "      <th>알고리즘</th>\n",
              "      <th>역명</th>\n",
              "      <th>역번호</th>\n",
              "      <th>이상치</th>\n",
              "      <th>종각</th>\n",
              "      <th>탐지</th>\n",
              "      <th>하차</th>\n",
              "      <th>회귀</th>\n",
              "    </tr>\n",
              "  </thead>\n",
              "  <tbody>\n",
              "    <tr>\n",
              "      <th>0</th>\n",
              "      <td>0</td>\n",
              "      <td>0.0</td>\n",
              "      <td>0.0</td>\n",
              "      <td>0.0</td>\n",
              "      <td>0.0</td>\n",
              "      <td>0.0</td>\n",
              "      <td>0.0</td>\n",
              "      <td>0.0</td>\n",
              "      <td>0.0</td>\n",
              "      <td>0.0</td>\n",
              "      <td>0.0</td>\n",
              "      <td>0.0</td>\n",
              "      <td>0.0</td>\n",
              "      <td>0.0</td>\n",
              "      <td>0.0</td>\n",
              "      <td>0.0</td>\n",
              "      <td>0.0</td>\n",
              "      <td>0.0</td>\n",
              "      <td>0.0</td>\n",
              "      <td>0.0</td>\n",
              "      <td>0.0</td>\n",
              "      <td>0.0</td>\n",
              "      <td>0.0</td>\n",
              "      <td>0.0</td>\n",
              "      <td>0.0</td>\n",
              "      <td>0.0</td>\n",
              "      <td>0.0</td>\n",
              "      <td>0.0</td>\n",
              "      <td>0.0</td>\n",
              "      <td>0.0</td>\n",
              "      <td>0.0</td>\n",
              "      <td>0.0</td>\n",
              "      <td>0.0</td>\n",
              "      <td>0.0</td>\n",
              "      <td>0.0</td>\n",
              "      <td>0.0</td>\n",
              "      <td>0.0</td>\n",
              "      <td>0.0</td>\n",
              "      <td>0.0</td>\n",
              "      <td>0.0</td>\n",
              "      <td>...</td>\n",
              "      <td>0.0</td>\n",
              "      <td>0.0</td>\n",
              "      <td>0.0</td>\n",
              "      <td>0.0</td>\n",
              "      <td>0.0</td>\n",
              "      <td>0.0</td>\n",
              "      <td>0.0</td>\n",
              "      <td>0.0</td>\n",
              "      <td>0.0</td>\n",
              "      <td>0.0</td>\n",
              "      <td>0.0</td>\n",
              "      <td>0.0</td>\n",
              "      <td>0.0</td>\n",
              "      <td>0.0</td>\n",
              "      <td>0.0</td>\n",
              "      <td>0.0</td>\n",
              "      <td>0.0</td>\n",
              "      <td>0.0</td>\n",
              "      <td>0.0</td>\n",
              "      <td>0.0</td>\n",
              "      <td>0.0</td>\n",
              "      <td>0.0</td>\n",
              "      <td>0.0</td>\n",
              "      <td>0.0</td>\n",
              "      <td>0.0</td>\n",
              "      <td>0.0</td>\n",
              "      <td>0.0</td>\n",
              "      <td>0.0</td>\n",
              "      <td>0.0</td>\n",
              "      <td>0.0</td>\n",
              "      <td>0.0</td>\n",
              "      <td>0.0</td>\n",
              "      <td>0.0</td>\n",
              "      <td>0.0</td>\n",
              "      <td>0.0</td>\n",
              "      <td>0.0</td>\n",
              "      <td>0.0</td>\n",
              "      <td>0.0</td>\n",
              "      <td>0.0</td>\n",
              "      <td>0.0</td>\n",
              "    </tr>\n",
              "  </tbody>\n",
              "</table>\n",
              "<p>1 rows × 33914 columns</p>\n",
              "</div>"
            ],
            "text/plain": [
              "   flag_id   00  000  0000  00000  000000  ...  역번호  이상치   종각   탐지   하차   회귀\n",
              "0        0  0.0  0.0   0.0    0.0     0.0  ...  0.0  0.0  0.0  0.0  0.0  0.0\n",
              "\n",
              "[1 rows x 33914 columns]"
            ]
          },
          "metadata": {
            "tags": []
          },
          "execution_count": 30
        }
      ]
    },
    {
      "cell_type": "code",
      "metadata": {
        "id": "0C73Ab6C-uIy",
        "colab_type": "code",
        "colab": {}
      },
      "source": [
        "columns = prepared_data.columns.tolist()\n",
        "columns = columns[-1:] + columns[:-1]"
      ],
      "execution_count": 0,
      "outputs": []
    },
    {
      "cell_type": "code",
      "metadata": {
        "id": "K1KqrZfR-y5J",
        "colab_type": "code",
        "colab": {
          "base_uri": "https://localhost:8080/",
          "height": 231
        },
        "outputId": "2a7adb9e-b48b-4bcd-f93e-5af7ed8693a5"
      },
      "source": [
        "prepared_data = prepared_data[columns]\n",
        "prepared_data.head(1)"
      ],
      "execution_count": 32,
      "outputs": [
        {
          "output_type": "execute_result",
          "data": {
            "text/html": [
              "<div>\n",
              "<style scoped>\n",
              "    .dataframe tbody tr th:only-of-type {\n",
              "        vertical-align: middle;\n",
              "    }\n",
              "\n",
              "    .dataframe tbody tr th {\n",
              "        vertical-align: top;\n",
              "    }\n",
              "\n",
              "    .dataframe thead th {\n",
              "        text-align: right;\n",
              "    }\n",
              "</style>\n",
              "<table border=\"1\" class=\"dataframe\">\n",
              "  <thead>\n",
              "    <tr style=\"text-align: right;\">\n",
              "      <th></th>\n",
              "      <th>회귀</th>\n",
              "      <th>flag_id</th>\n",
              "      <th>00</th>\n",
              "      <th>000</th>\n",
              "      <th>0000</th>\n",
              "      <th>00000</th>\n",
              "      <th>000000</th>\n",
              "      <th>0000000000</th>\n",
              "      <th>0000000000000000000000000000000000000</th>\n",
              "      <th>00000000e</th>\n",
              "      <th>00000001</th>\n",
              "      <th>00002079</th>\n",
              "      <th>0000e</th>\n",
              "      <th>0000ff</th>\n",
              "      <th>0000im6xkn_53mkz4iw5kno5gr0</th>\n",
              "      <th>0001</th>\n",
              "      <th>000111010001110100011110000111110101</th>\n",
              "      <th>000123456789</th>\n",
              "      <th>000175745212</th>\n",
              "      <th>0001b</th>\n",
              "      <th>0002</th>\n",
              "      <th>0003</th>\n",
              "      <th>000307052454</th>\n",
              "      <th>0004</th>\n",
              "      <th>0004044</th>\n",
              "      <th>00046382</th>\n",
              "      <th>000472108193</th>\n",
              "      <th>000836333832</th>\n",
              "      <th>000885614966666667</th>\n",
              "      <th>000988217071</th>\n",
              "      <th>000x</th>\n",
              "      <th>001</th>\n",
              "      <th>0010</th>\n",
              "      <th>0011</th>\n",
              "      <th>0011111000</th>\n",
              "      <th>0012</th>\n",
              "      <th>00128154433</th>\n",
              "      <th>00158583815</th>\n",
              "      <th>0016854346</th>\n",
              "      <th>002</th>\n",
              "      <th>...</th>\n",
              "      <th>江西省</th>\n",
              "      <th>河北省</th>\n",
              "      <th>河南省</th>\n",
              "      <th>浙江省</th>\n",
              "      <th>海南省</th>\n",
              "      <th>湖北省</th>\n",
              "      <th>湖南省</th>\n",
              "      <th>甘肃省</th>\n",
              "      <th>福建省</th>\n",
              "      <th>移动了</th>\n",
              "      <th>西藏自治区</th>\n",
              "      <th>计算匹配信息</th>\n",
              "      <th>计算曝光度</th>\n",
              "      <th>读取图像</th>\n",
              "      <th>调整图像曝光</th>\n",
              "      <th>贵州省</th>\n",
              "      <th>辽宁省</th>\n",
              "      <th>适当缩放</th>\n",
              "      <th>重庆市</th>\n",
              "      <th>重新发布</th>\n",
              "      <th>陕西省</th>\n",
              "      <th>青海省</th>\n",
              "      <th>黑龙江省</th>\n",
              "      <th>강화학습</th>\n",
              "      <th>구분</th>\n",
              "      <th>군집화</th>\n",
              "      <th>날짜</th>\n",
              "      <th>분류</th>\n",
              "      <th>삭제</th>\n",
              "      <th>삭제되었습니다</th>\n",
              "      <th>서울역</th>\n",
              "      <th>승차</th>\n",
              "      <th>시청</th>\n",
              "      <th>알고리즘</th>\n",
              "      <th>역명</th>\n",
              "      <th>역번호</th>\n",
              "      <th>이상치</th>\n",
              "      <th>종각</th>\n",
              "      <th>탐지</th>\n",
              "      <th>하차</th>\n",
              "    </tr>\n",
              "  </thead>\n",
              "  <tbody>\n",
              "    <tr>\n",
              "      <th>0</th>\n",
              "      <td>0.0</td>\n",
              "      <td>0</td>\n",
              "      <td>0.0</td>\n",
              "      <td>0.0</td>\n",
              "      <td>0.0</td>\n",
              "      <td>0.0</td>\n",
              "      <td>0.0</td>\n",
              "      <td>0.0</td>\n",
              "      <td>0.0</td>\n",
              "      <td>0.0</td>\n",
              "      <td>0.0</td>\n",
              "      <td>0.0</td>\n",
              "      <td>0.0</td>\n",
              "      <td>0.0</td>\n",
              "      <td>0.0</td>\n",
              "      <td>0.0</td>\n",
              "      <td>0.0</td>\n",
              "      <td>0.0</td>\n",
              "      <td>0.0</td>\n",
              "      <td>0.0</td>\n",
              "      <td>0.0</td>\n",
              "      <td>0.0</td>\n",
              "      <td>0.0</td>\n",
              "      <td>0.0</td>\n",
              "      <td>0.0</td>\n",
              "      <td>0.0</td>\n",
              "      <td>0.0</td>\n",
              "      <td>0.0</td>\n",
              "      <td>0.0</td>\n",
              "      <td>0.0</td>\n",
              "      <td>0.0</td>\n",
              "      <td>0.0</td>\n",
              "      <td>0.0</td>\n",
              "      <td>0.0</td>\n",
              "      <td>0.0</td>\n",
              "      <td>0.0</td>\n",
              "      <td>0.0</td>\n",
              "      <td>0.0</td>\n",
              "      <td>0.0</td>\n",
              "      <td>0.0</td>\n",
              "      <td>...</td>\n",
              "      <td>0.0</td>\n",
              "      <td>0.0</td>\n",
              "      <td>0.0</td>\n",
              "      <td>0.0</td>\n",
              "      <td>0.0</td>\n",
              "      <td>0.0</td>\n",
              "      <td>0.0</td>\n",
              "      <td>0.0</td>\n",
              "      <td>0.0</td>\n",
              "      <td>0.0</td>\n",
              "      <td>0.0</td>\n",
              "      <td>0.0</td>\n",
              "      <td>0.0</td>\n",
              "      <td>0.0</td>\n",
              "      <td>0.0</td>\n",
              "      <td>0.0</td>\n",
              "      <td>0.0</td>\n",
              "      <td>0.0</td>\n",
              "      <td>0.0</td>\n",
              "      <td>0.0</td>\n",
              "      <td>0.0</td>\n",
              "      <td>0.0</td>\n",
              "      <td>0.0</td>\n",
              "      <td>0.0</td>\n",
              "      <td>0.0</td>\n",
              "      <td>0.0</td>\n",
              "      <td>0.0</td>\n",
              "      <td>0.0</td>\n",
              "      <td>0.0</td>\n",
              "      <td>0.0</td>\n",
              "      <td>0.0</td>\n",
              "      <td>0.0</td>\n",
              "      <td>0.0</td>\n",
              "      <td>0.0</td>\n",
              "      <td>0.0</td>\n",
              "      <td>0.0</td>\n",
              "      <td>0.0</td>\n",
              "      <td>0.0</td>\n",
              "      <td>0.0</td>\n",
              "      <td>0.0</td>\n",
              "    </tr>\n",
              "  </tbody>\n",
              "</table>\n",
              "<p>1 rows × 33914 columns</p>\n",
              "</div>"
            ],
            "text/plain": [
              "    회귀  flag_id   00  000  0000  00000  ...   역명  역번호  이상치   종각   탐지   하차\n",
              "0  0.0        0  0.0  0.0   0.0    0.0  ...  0.0  0.0  0.0  0.0  0.0  0.0\n",
              "\n",
              "[1 rows x 33914 columns]"
            ]
          },
          "metadata": {
            "tags": []
          },
          "execution_count": 32
        }
      ]
    },
    {
      "cell_type": "markdown",
      "metadata": {
        "id": "OpS-xABY-7Ym",
        "colab_type": "text"
      },
      "source": [
        "### Binary Logistic Regression"
      ]
    },
    {
      "cell_type": "code",
      "metadata": {
        "id": "T-LYPJLt-2tZ",
        "colab_type": "code",
        "colab": {
          "base_uri": "https://localhost:8080/",
          "height": 231
        },
        "outputId": "8855885c-88c3-42c1-a886-831941e4f19f"
      },
      "source": [
        "logistic_cols = prepared_data.loc[:, prepared_data.columns != 'flag_id']\n",
        "logistic_cols.head(1)"
      ],
      "execution_count": 33,
      "outputs": [
        {
          "output_type": "execute_result",
          "data": {
            "text/html": [
              "<div>\n",
              "<style scoped>\n",
              "    .dataframe tbody tr th:only-of-type {\n",
              "        vertical-align: middle;\n",
              "    }\n",
              "\n",
              "    .dataframe tbody tr th {\n",
              "        vertical-align: top;\n",
              "    }\n",
              "\n",
              "    .dataframe thead th {\n",
              "        text-align: right;\n",
              "    }\n",
              "</style>\n",
              "<table border=\"1\" class=\"dataframe\">\n",
              "  <thead>\n",
              "    <tr style=\"text-align: right;\">\n",
              "      <th></th>\n",
              "      <th>회귀</th>\n",
              "      <th>00</th>\n",
              "      <th>000</th>\n",
              "      <th>0000</th>\n",
              "      <th>00000</th>\n",
              "      <th>000000</th>\n",
              "      <th>0000000000</th>\n",
              "      <th>0000000000000000000000000000000000000</th>\n",
              "      <th>00000000e</th>\n",
              "      <th>00000001</th>\n",
              "      <th>00002079</th>\n",
              "      <th>0000e</th>\n",
              "      <th>0000ff</th>\n",
              "      <th>0000im6xkn_53mkz4iw5kno5gr0</th>\n",
              "      <th>0001</th>\n",
              "      <th>000111010001110100011110000111110101</th>\n",
              "      <th>000123456789</th>\n",
              "      <th>000175745212</th>\n",
              "      <th>0001b</th>\n",
              "      <th>0002</th>\n",
              "      <th>0003</th>\n",
              "      <th>000307052454</th>\n",
              "      <th>0004</th>\n",
              "      <th>0004044</th>\n",
              "      <th>00046382</th>\n",
              "      <th>000472108193</th>\n",
              "      <th>000836333832</th>\n",
              "      <th>000885614966666667</th>\n",
              "      <th>000988217071</th>\n",
              "      <th>000x</th>\n",
              "      <th>001</th>\n",
              "      <th>0010</th>\n",
              "      <th>0011</th>\n",
              "      <th>0011111000</th>\n",
              "      <th>0012</th>\n",
              "      <th>00128154433</th>\n",
              "      <th>00158583815</th>\n",
              "      <th>0016854346</th>\n",
              "      <th>002</th>\n",
              "      <th>00220888574</th>\n",
              "      <th>...</th>\n",
              "      <th>江西省</th>\n",
              "      <th>河北省</th>\n",
              "      <th>河南省</th>\n",
              "      <th>浙江省</th>\n",
              "      <th>海南省</th>\n",
              "      <th>湖北省</th>\n",
              "      <th>湖南省</th>\n",
              "      <th>甘肃省</th>\n",
              "      <th>福建省</th>\n",
              "      <th>移动了</th>\n",
              "      <th>西藏自治区</th>\n",
              "      <th>计算匹配信息</th>\n",
              "      <th>计算曝光度</th>\n",
              "      <th>读取图像</th>\n",
              "      <th>调整图像曝光</th>\n",
              "      <th>贵州省</th>\n",
              "      <th>辽宁省</th>\n",
              "      <th>适当缩放</th>\n",
              "      <th>重庆市</th>\n",
              "      <th>重新发布</th>\n",
              "      <th>陕西省</th>\n",
              "      <th>青海省</th>\n",
              "      <th>黑龙江省</th>\n",
              "      <th>강화학습</th>\n",
              "      <th>구분</th>\n",
              "      <th>군집화</th>\n",
              "      <th>날짜</th>\n",
              "      <th>분류</th>\n",
              "      <th>삭제</th>\n",
              "      <th>삭제되었습니다</th>\n",
              "      <th>서울역</th>\n",
              "      <th>승차</th>\n",
              "      <th>시청</th>\n",
              "      <th>알고리즘</th>\n",
              "      <th>역명</th>\n",
              "      <th>역번호</th>\n",
              "      <th>이상치</th>\n",
              "      <th>종각</th>\n",
              "      <th>탐지</th>\n",
              "      <th>하차</th>\n",
              "    </tr>\n",
              "  </thead>\n",
              "  <tbody>\n",
              "    <tr>\n",
              "      <th>0</th>\n",
              "      <td>0.0</td>\n",
              "      <td>0.0</td>\n",
              "      <td>0.0</td>\n",
              "      <td>0.0</td>\n",
              "      <td>0.0</td>\n",
              "      <td>0.0</td>\n",
              "      <td>0.0</td>\n",
              "      <td>0.0</td>\n",
              "      <td>0.0</td>\n",
              "      <td>0.0</td>\n",
              "      <td>0.0</td>\n",
              "      <td>0.0</td>\n",
              "      <td>0.0</td>\n",
              "      <td>0.0</td>\n",
              "      <td>0.0</td>\n",
              "      <td>0.0</td>\n",
              "      <td>0.0</td>\n",
              "      <td>0.0</td>\n",
              "      <td>0.0</td>\n",
              "      <td>0.0</td>\n",
              "      <td>0.0</td>\n",
              "      <td>0.0</td>\n",
              "      <td>0.0</td>\n",
              "      <td>0.0</td>\n",
              "      <td>0.0</td>\n",
              "      <td>0.0</td>\n",
              "      <td>0.0</td>\n",
              "      <td>0.0</td>\n",
              "      <td>0.0</td>\n",
              "      <td>0.0</td>\n",
              "      <td>0.0</td>\n",
              "      <td>0.0</td>\n",
              "      <td>0.0</td>\n",
              "      <td>0.0</td>\n",
              "      <td>0.0</td>\n",
              "      <td>0.0</td>\n",
              "      <td>0.0</td>\n",
              "      <td>0.0</td>\n",
              "      <td>0.0</td>\n",
              "      <td>0.0</td>\n",
              "      <td>...</td>\n",
              "      <td>0.0</td>\n",
              "      <td>0.0</td>\n",
              "      <td>0.0</td>\n",
              "      <td>0.0</td>\n",
              "      <td>0.0</td>\n",
              "      <td>0.0</td>\n",
              "      <td>0.0</td>\n",
              "      <td>0.0</td>\n",
              "      <td>0.0</td>\n",
              "      <td>0.0</td>\n",
              "      <td>0.0</td>\n",
              "      <td>0.0</td>\n",
              "      <td>0.0</td>\n",
              "      <td>0.0</td>\n",
              "      <td>0.0</td>\n",
              "      <td>0.0</td>\n",
              "      <td>0.0</td>\n",
              "      <td>0.0</td>\n",
              "      <td>0.0</td>\n",
              "      <td>0.0</td>\n",
              "      <td>0.0</td>\n",
              "      <td>0.0</td>\n",
              "      <td>0.0</td>\n",
              "      <td>0.0</td>\n",
              "      <td>0.0</td>\n",
              "      <td>0.0</td>\n",
              "      <td>0.0</td>\n",
              "      <td>0.0</td>\n",
              "      <td>0.0</td>\n",
              "      <td>0.0</td>\n",
              "      <td>0.0</td>\n",
              "      <td>0.0</td>\n",
              "      <td>0.0</td>\n",
              "      <td>0.0</td>\n",
              "      <td>0.0</td>\n",
              "      <td>0.0</td>\n",
              "      <td>0.0</td>\n",
              "      <td>0.0</td>\n",
              "      <td>0.0</td>\n",
              "      <td>0.0</td>\n",
              "    </tr>\n",
              "  </tbody>\n",
              "</table>\n",
              "<p>1 rows × 33913 columns</p>\n",
              "</div>"
            ],
            "text/plain": [
              "    회귀   00  000  0000  00000  000000  ...   역명  역번호  이상치   종각   탐지   하차\n",
              "0  0.0  0.0  0.0   0.0    0.0     0.0  ...  0.0  0.0  0.0  0.0  0.0  0.0\n",
              "\n",
              "[1 rows x 33913 columns]"
            ]
          },
          "metadata": {
            "tags": []
          },
          "execution_count": 33
        }
      ]
    },
    {
      "cell_type": "code",
      "metadata": {
        "id": "dXuauAjC--Jw",
        "colab_type": "code",
        "colab": {}
      },
      "source": [
        "X = logistic_cols\n",
        "y = prepared_data['flag_id']"
      ],
      "execution_count": 0,
      "outputs": []
    },
    {
      "cell_type": "code",
      "metadata": {
        "id": "rvuyXYj3_Cv3",
        "colab_type": "code",
        "colab": {
          "base_uri": "https://localhost:8080/",
          "height": 156
        },
        "outputId": "10ccc618-4101-4c64-ee38-c5b91d8d0336"
      },
      "source": [
        "from sklearn import preprocessing\n",
        "from sklearn.model_selection import train_test_split\n",
        "from sklearn.linear_model import LogisticRegression\n",
        "from sklearn import metrics\n",
        "X_train, X_test, y_train, y_test = train_test_split(X, y, test_size=0.3, random_state=0)\n",
        "logreg = LogisticRegression()\n",
        "logreg.fit(X_train, y_train)"
      ],
      "execution_count": 44,
      "outputs": [
        {
          "output_type": "stream",
          "text": [
            "/usr/local/lib/python3.6/dist-packages/sklearn/linear_model/logistic.py:432: FutureWarning: Default solver will be changed to 'lbfgs' in 0.22. Specify a solver to silence this warning.\n",
            "  FutureWarning)\n"
          ],
          "name": "stderr"
        },
        {
          "output_type": "execute_result",
          "data": {
            "text/plain": [
              "LogisticRegression(C=1.0, class_weight=None, dual=False, fit_intercept=True,\n",
              "                   intercept_scaling=1, l1_ratio=None, max_iter=100,\n",
              "                   multi_class='warn', n_jobs=None, penalty='l2',\n",
              "                   random_state=None, solver='warn', tol=0.0001, verbose=0,\n",
              "                   warm_start=False)"
            ]
          },
          "metadata": {
            "tags": []
          },
          "execution_count": 44
        }
      ]
    },
    {
      "cell_type": "code",
      "metadata": {
        "id": "6Jhl0goR_FiQ",
        "colab_type": "code",
        "colab": {
          "base_uri": "https://localhost:8080/",
          "height": 34
        },
        "outputId": "30bee962-cc08-48cc-cb58-3ac5947f93c7"
      },
      "source": [
        "y_pred = logreg.predict(X_test)\n",
        "print('Accuracy of logistic regression classifier on Stack Exchange Query Results: {:.2f}'.format(logreg.score(X_test, y_test)))"
      ],
      "execution_count": 45,
      "outputs": [
        {
          "output_type": "stream",
          "text": [
            "Accuracy of logistic regression classifier on Stack Exchange Query Results: 0.68\n"
          ],
          "name": "stdout"
        }
      ]
    },
    {
      "cell_type": "code",
      "metadata": {
        "id": "2cURWaklC7o6",
        "colab_type": "code",
        "colab": {
          "base_uri": "https://localhost:8080/",
          "height": 51
        },
        "outputId": "77137deb-9777-4609-b088-880232b7f926"
      },
      "source": [
        "from sklearn.metrics import confusion_matrix\n",
        "confusion_matrix = confusion_matrix(y_test, y_pred)\n",
        "print(confusion_matrix)"
      ],
      "execution_count": 50,
      "outputs": [
        {
          "output_type": "stream",
          "text": [
            "[[357 181]\n",
            " [151 361]]\n"
          ],
          "name": "stdout"
        }
      ]
    },
    {
      "cell_type": "markdown",
      "metadata": {
        "id": "iBtA-H-zGIvZ",
        "colab_type": "text"
      },
      "source": [
        "## ROC Curve"
      ]
    },
    {
      "cell_type": "code",
      "metadata": {
        "id": "ZF1qWDkLBRw7",
        "colab_type": "code",
        "colab": {}
      },
      "source": [
        "from sklearn.metrics import roc_curve, roc_auc_score"
      ],
      "execution_count": 0,
      "outputs": []
    },
    {
      "cell_type": "code",
      "metadata": {
        "id": "BPKv4hUY_K1B",
        "colab_type": "code",
        "colab": {}
      },
      "source": [
        "roc_auc = roc_auc_score(y_test, y_pred)\n",
        "fpr, tpr, threshold = roc_curve(y_test, y_pred)"
      ],
      "execution_count": 0,
      "outputs": []
    },
    {
      "cell_type": "code",
      "metadata": {
        "id": "MqpvF-pbETyk",
        "colab_type": "code",
        "colab": {
          "base_uri": "https://localhost:8080/",
          "height": 606
        },
        "outputId": "9852171c-4baa-4976-dc4b-8221a6448606"
      },
      "source": [
        "x = np.arange(0,1,.01)\n",
        "y = [i for i in x]\n",
        "plt.figure(figsize=(15,10))\n",
        "plt.plot(fpr, tpr, label=\"ROC Curve\")\n",
        "plt.plot(x,y, color='black')\n",
        "plt.xlabel(\"False Positive Rate\")\n",
        "plt.ylabel(\"True Positive Rate\")\n",
        "plt.show()"
      ],
      "execution_count": 62,
      "outputs": [
        {
          "output_type": "display_data",
          "data": {
            "image/png": "[encoded data removed]",
            "text/plain": [
              "<Figure size 1080x720 with 1 Axes>"
            ]
          },
          "metadata": {
            "tags": []
          }
        }
      ]
    },
    {
      "cell_type": "code",
      "metadata": {
        "id": "tl3tGIZoB0qm",
        "colab_type": "code",
        "colab": {
          "base_uri": "https://localhost:8080/",
          "height": 34
        },
        "outputId": "573246a2-4547-424f-a023-2260f84d4e37"
      },
      "source": [
        "print(roc_auc_score(y_test, y_pred))"
      ],
      "execution_count": 54,
      "outputs": [
        {
          "output_type": "stream",
          "text": [
            "0.6843234491171004\n"
          ],
          "name": "stdout"
        }
      ]
    },
    {
      "cell_type": "code",
      "metadata": {
        "id": "VaWWF-r1CKGi",
        "colab_type": "code",
        "colab": {}
      },
      "source": [
        ""
      ],
      "execution_count": 0,
      "outputs": []
    }
  ]
}